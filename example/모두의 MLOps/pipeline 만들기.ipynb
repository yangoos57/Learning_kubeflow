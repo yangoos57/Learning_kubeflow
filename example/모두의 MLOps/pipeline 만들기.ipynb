{
 "cells": [
  {
   "cell_type": "code",
   "execution_count": null,
   "metadata": {},
   "outputs": [],
   "source": [
    "pip install kfp scikit-learn==1.0.1 mlflow==1.21.0 dill==0.3.4"
   ]
  },
  {
   "attachments": {},
   "cell_type": "markdown",
   "metadata": {},
   "source": [
    "### Component 만들기 위한 규칙\n",
    "\n",
    "1. 컴포넌트 콘텐츠에서 필요한 값들은 Config로 정의\n",
    "   > Kubeflow에서는 파이프라인을 Kubeflow 포맷으로 변환할 때, 컴포넌트 간의 연결에서 정해진 입력과 출력의 타입이 일치하는지 체크합니다. 만약 컴포넌트가 필요로 하는 입력과 다른 컴포넌트로부터 전달받은 출력의 포맷이 일치하지 않을 경우 파이프라인 생성을 할 수 없습니다.\n",
    "2. argument의 타입 힌트 작성\n",
    "   > Kubeflow에서 반환 값으로 사용할 수 있는 타입은 json에서 표현할 수 있는 타입들만 사용할 수 있습니다. 대표적으로 사용되며 권장하는 타입들은 다음과 같습니다.\n",
    "3. 만약 단일 값이 아닌 여러 값을 반환하려면 collections.namedtuple 이용\n",
    "\n",
    "\n",
    "### Docker로 Component 작성\n",
    "아래의 파이썬 코드와 Docker 코드는 동일한 기능을 수행함.\n",
    "- docker pull python:3.7\n",
    "- print(number)\n",
    "\n"
   ]
  },
  {
   "cell_type": "code",
   "execution_count": 3,
   "metadata": {},
   "outputs": [],
   "source": [
    "from kfp.components import create_component_from_func\n",
    "\n",
    "@create_component_from_func\n",
    "def print_and_return_number(number: int) -> int:\n",
    "    print(number)\n",
    "    return number\n",
    "\n",
    "if __name__ == \"__main__\":\n",
    "    print_and_return_number.component_spec.save(\"print_and_return_number.yaml\")"
   ]
  },
  {
   "cell_type": "code",
   "execution_count": 4,
   "metadata": {},
   "outputs": [],
   "source": [
    "from kfp.components import load_component_from_file\n",
    "\n",
    "print_and_return_number = load_component_from_file(\"print_and_return_number.yaml\")"
   ]
  },
  {
   "attachments": {},
   "cell_type": "markdown",
   "metadata": {},
   "source": [
    "### Pipeline 구동에 필요한 yaml 생성하기"
   ]
  },
  {
   "cell_type": "code",
   "execution_count": 6,
   "metadata": {},
   "outputs": [],
   "source": [
    "@create_component_from_func\n",
    "def sum_and_print_numbers(number_1: int, number_2: int) -> int:\n",
    "    sum_num = number_1 + number_2\n",
    "    print(sum_num)\n",
    "    return sum_num"
   ]
  },
  {
   "cell_type": "markdown",
   "metadata": {},
   "source": [
    "### 파이프라인 정의하기\n",
    "* 파이프라인은 여러개의 component로 구성 됨.\n",
    "* `set_display_name`를 사용하면 run page의 네모박스에 표현할 단어를 넣을 수 있음."
   ]
  },
  {
   "cell_type": "code",
   "execution_count": 7,
   "metadata": {},
   "outputs": [],
   "source": [
    "from kfp.dsl import pipeline\n",
    "\n",
    "\n",
    "@pipeline(name=\"example_pipeline\")\n",
    "def example_pipeline(number_1: int, number_2: int):\n",
    "    number_1_result = print_and_return_number(number_1).set_display_name(\"This is number 1\")\n",
    "    number_2_result = print_and_return_number(number_2).set_display_name(\"This is number 2\")\n",
    "    sum_result = sum_and_print_numbers(\n",
    "        number_1=number_1_result.output, number_2=number_2_result.output\n",
    "    ).set_display_name(\"This is sum of number 1 and number 2\")"
   ]
  },
  {
   "cell_type": "code",
   "execution_count": 8,
   "metadata": {},
   "outputs": [],
   "source": [
    "if __name__ == \"__main__\":\n",
    "    import kfp\n",
    "    kfp.compiler.Compiler().compile(example_pipeline, \"example_pipeline.yaml\")"
   ]
  },
  {
   "cell_type": "markdown",
   "metadata": {},
   "source": [
    "### 생성한 yaml은 pipeline 페이지에서 불러오면 된다."
   ]
  },
  {
   "cell_type": "markdown",
   "metadata": {},
   "source": [
    "### 끝"
   ]
  }
 ],
 "metadata": {
  "kernelspec": {
   "display_name": "Python 3",
   "language": "python",
   "name": "python3"
  },
  "language_info": {
   "codemirror_mode": {
    "name": "ipython",
    "version": 3
   },
   "file_extension": ".py",
   "mimetype": "text/x-python",
   "name": "python",
   "nbconvert_exporter": "python",
   "pygments_lexer": "ipython3",
   "version": "3.9.1 (default, Jun 13 2022, 17:35:03) \n[Clang 13.1.6 (clang-1316.0.21.2.5)]"
  },
  "orig_nbformat": 4,
  "vscode": {
   "interpreter": {
    "hash": "b2097164ba635ebffc0e3795dc845ae25b57eedf0c1eb5773ded6aee9fc1b279"
   }
  }
 },
 "nbformat": 4,
 "nbformat_minor": 2
}
