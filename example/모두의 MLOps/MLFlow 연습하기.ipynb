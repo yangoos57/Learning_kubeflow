{
 "cells": [
  {
   "cell_type": "markdown",
   "metadata": {},
   "source": [
    "## MLflow를 활용해 모델 서빙하기"
   ]
  },
  {
   "attachments": {},
   "cell_type": "markdown",
   "metadata": {},
   "source": [
    "### MLflow에 활용할  Info 만들기"
   ]
  },
  {
   "cell_type": "code",
   "execution_count": 1,
   "metadata": {},
   "outputs": [
    {
     "name": "stderr",
     "output_type": "stream",
     "text": [
      "/Users/yangwoolee/.pyenv/versions/3.9.1/lib/python3.9/site-packages/sklearn/utils/validation.py:985: DataConversionWarning: A column-vector y was passed when a 1d array was expected. Please change the shape of y to (n_samples, ), for example using ravel().\n",
      "  y = column_or_1d(y, warn=True)\n"
     ]
    }
   ],
   "source": [
    "from mlflow.models.signature import infer_signature\n",
    "from mlflow.utils.environment import _mlflow_conda_env\n",
    "\n",
    "import pandas as pd\n",
    "from sklearn.datasets import load_iris\n",
    "from sklearn.svm import SVC\n",
    "\n",
    "iris = load_iris()\n",
    "\n",
    "data = pd.DataFrame(iris[\"data\"], columns=iris[\"feature_names\"])\n",
    "target = pd.DataFrame(iris[\"target\"], columns=[\"target\"])\n",
    "\n",
    "clf = SVC(kernel=\"rbf\")\n",
    "clf.fit(data, target)\n",
    "\n",
    "input_example = data.sample(1)\n",
    "signature = infer_signature(data, clf.predict(data))\n",
    "conda_env = _mlflow_conda_env(additional_pip_deps=[\"dill\", \"pandas\", \"scikit-learn\"])"
   ]
  },
  {
   "cell_type": "markdown",
   "metadata": {},
   "source": [
    "### 모델과 info 저장"
   ]
  },
  {
   "cell_type": "code",
   "execution_count": 2,
   "metadata": {},
   "outputs": [],
   "source": [
    "from mlflow.sklearn import save_model\n",
    "\n",
    "save_model(\n",
    "    sk_model=clf,\n",
    "    path=\"svc\",\n",
    "    serialization_format=\"cloudpickle\",\n",
    "    conda_env=conda_env,\n",
    "    signature=signature,\n",
    "    input_example=input_example,\n",
    ")"
   ]
  },
  {
   "attachments": {},
   "cell_type": "markdown",
   "metadata": {},
   "source": [
    "### mlflow ui 생성\n",
    "* bash에 `mlflow ui` 입력한 뒤 테이블에 있는 시간 누르면 해당 페이지로 이동\n",
    "\n",
    "<br/>\n",
    "\n",
    "<img src='img/mlrun.png' width='500px'>"
   ]
  },
  {
   "cell_type": "code",
   "execution_count": 3,
   "metadata": {},
   "outputs": [],
   "source": [
    "import mlflow\n",
    "\n",
    "with mlflow.start_run():\n",
    "    mlflow.log_artifact(\"svc/\")"
   ]
  },
  {
   "attachments": {},
   "cell_type": "markdown",
   "metadata": {},
   "source": [
    "### Kubeflow에서 Mlflow 컴포넌트 사용하기\n",
    "\n",
    "아래의 구조로 mlflow => kubeflow 이어지는 파이프라인을 구축할 수 있음\n",
    "\n",
    "<img src='img/mlflow-1.png' width='200px'>"
   ]
  },
  {
   "cell_type": "markdown",
   "metadata": {},
   "source": [
    "### Data 생성"
   ]
  },
  {
   "cell_type": "code",
   "execution_count": 3,
   "metadata": {},
   "outputs": [],
   "source": [
    "from functools import partial\n",
    "\n",
    "from kfp.components import InputPath, OutputPath, create_component_from_func\n",
    "\n",
    "\n",
    "@partial(\n",
    "    create_component_from_func,\n",
    "    packages_to_install=[\"pandas\", \"scikit-learn\"],\n",
    ")\n",
    "def load_iris_data(\n",
    "    data_path: OutputPath(\"csv\"),\n",
    "    target_path: OutputPath(\"csv\"),\n",
    "):\n",
    "    import pandas as pd\n",
    "    from sklearn.datasets import load_iris\n",
    "\n",
    "    iris = load_iris()\n",
    "\n",
    "    data = pd.DataFrame(iris[\"data\"], columns=iris[\"feature_names\"])\n",
    "    target = pd.DataFrame(iris[\"target\"], columns=[\"target\"])\n",
    "\n",
    "    data.to_csv(data_path, index=False)\n",
    "    target.to_csv(target_path, index=False)"
   ]
  },
  {
   "cell_type": "markdown",
   "metadata": {},
   "source": [
    "### 모델 학습"
   ]
  },
  {
   "cell_type": "code",
   "execution_count": 10,
   "metadata": {},
   "outputs": [],
   "source": [
    "from functools import partial\n",
    "from kfp.components import InputPath, OutputPath, create_component_from_func\n",
    "\n",
    "@partial(\n",
    "    create_component_from_func,\n",
    "    packages_to_install=[\"dill\", \"pandas\", \"scikit-learn\", \"mlflow\"],\n",
    ")\n",
    "def train_from_csv(\n",
    "    train_data_path: InputPath(\"csv\"),\n",
    "    train_target_path: InputPath(\"csv\"),\n",
    "    model_path: OutputPath(\"dill\"),\n",
    "    input_example_path: OutputPath(\"dill\"),\n",
    "    signature_path: OutputPath(\"dill\"),\n",
    "    conda_env_path: OutputPath(\"dill\"),\n",
    "    kernel: str,\n",
    "):\n",
    "    import dill\n",
    "    import pandas as pd\n",
    "    from sklearn.svm import SVC\n",
    "\n",
    "    from mlflow.models.signature import infer_signature\n",
    "    from mlflow.utils.environment import _mlflow_conda_env\n",
    "\n",
    "    train_data = pd.read_csv(train_data_path)\n",
    "    train_target = pd.read_csv(train_target_path)\n",
    "\n",
    "    print('train_data: ', train_data.iloc[0])\n",
    "    print('train_target: ', train_target.iloc[0])\n",
    "    \n",
    "    clf = SVC(kernel=kernel)\n",
    "    clf.fit(train_data, train_target)\n",
    "\n",
    "    with open(model_path, mode=\"wb\") as file_writer:\n",
    "        dill.dump(clf, file_writer)\n",
    "\n",
    "    input_example = train_data.sample(1)\n",
    "    with open(input_example_path, \"wb\") as file_writer:\n",
    "        dill.dump(input_example, file_writer)\n",
    "\n",
    "    signature = infer_signature(train_data, clf.predict(train_data))\n",
    "    with open(signature_path, \"wb\") as file_writer:\n",
    "        dill.dump(signature, file_writer)\n",
    "\n",
    "    conda_env = _mlflow_conda_env(\n",
    "        additional_pip_deps=[\"dill\", \"pandas\", \"scikit-learn\"]\n",
    "    )\n",
    "    with open(conda_env_path, \"wb\") as file_writer:\n",
    "        dill.dump(conda_env, file_writer)"
   ]
  },
  {
   "attachments": {},
   "cell_type": "markdown",
   "metadata": {},
   "source": [
    "### 학습 결과를 kubeflow로 이동\n",
    "\n",
    "* svc폴더 내 MLFlow 파일들을 minio로 업로드 하는 방법임.\n",
    "* save module을 통해서 minio로 업로드 되는 듯\n",
    "\n",
    "--- \n",
    "\n",
    "* os.environ[\"MLFLOW_S3_ENDPOINT_URL\"] : minio endpoint를 mlpoint server로 설정해야함.\n",
    "\n",
    "* os.environ[\"AWS_ACCESS_KEY_ID\"] = \"minio\"\n",
    "* os.environ[\"AWS_SECRET_ACCESS_KEY\"] = \"minio123\"\n",
    "* mlflowclient는 http://mlflow-server-service.mlflow-system.svc:5000로 설정"
   ]
  },
  {
   "cell_type": "code",
   "execution_count": 1,
   "metadata": {},
   "outputs": [],
   "source": [
    "from functools import partial\n",
    "from kfp.components import InputPath, create_component_from_func\n",
    "\n",
    "@partial(\n",
    "    create_component_from_func,\n",
    "    packages_to_install=[\"dill\", \"pandas\", \"scikit-learn\", \"mlflow\", \"boto3\"],\n",
    ")\n",
    "def upload_sklearn_model_to_mlflow(\n",
    "    model_name: str,\n",
    "    model_path: InputPath(\"dill\"),\n",
    "    input_example_path: InputPath(\"dill\"),\n",
    "    signature_path: InputPath(\"dill\"),\n",
    "    conda_env_path: InputPath(\"dill\"),\n",
    "):\n",
    "    import os\n",
    "    import dill\n",
    "    from mlflow.sklearn import save_model\n",
    "    \n",
    "    from mlflow.tracking.client import MlflowClient\n",
    "\n",
    "    os.environ[\"MLFLOW_S3_ENDPOINT_URL\"] = \"http://minio-service.kubeflow.svc:9000\"\n",
    "    os.environ[\"AWS_ACCESS_KEY_ID\"] = \"minio\"\n",
    "    os.environ[\"AWS_SECRET_ACCESS_KEY\"] = \"minio123\"\n",
    "\n",
    "    client = MlflowClient(\"http://mlflow-server-service.mlflow-system.svc:5000\")\n",
    "\n",
    "    with open(model_path, mode=\"rb\") as file_reader:\n",
    "        clf = dill.load(file_reader)\n",
    "\n",
    "    with open(input_example_path, \"rb\") as file_reader:\n",
    "        input_example = dill.load(file_reader)\n",
    "\n",
    "    with open(signature_path, \"rb\") as file_reader:\n",
    "        signature = dill.load(file_reader)\n",
    "\n",
    "    with open(conda_env_path, \"rb\") as file_reader:\n",
    "        conda_env = dill.load(file_reader)\n",
    "\n",
    "    save_model(\n",
    "        sk_model=clf,\n",
    "        path=model_name,\n",
    "        serialization_format=\"cloudpickle\",\n",
    "        conda_env=conda_env,\n",
    "        signature=signature,\n",
    "        input_example=input_example,\n",
    "    )\n",
    "    run = client.create_run(experiment_id=\"0\")\n",
    "    client.log_artifact(run.info.run_id, model_name)"
   ]
  },
  {
   "cell_type": "markdown",
   "metadata": {},
   "source": [
    "### 파이프라인"
   ]
  },
  {
   "cell_type": "code",
   "execution_count": 5,
   "metadata": {},
   "outputs": [],
   "source": [
    "from kfp.dsl import pipeline\n",
    "\n",
    "\n",
    "@pipeline(name=\"mlflow_pipeline\")\n",
    "def mlflow_pipeline(kernel: str, model_name: str):\n",
    "    iris_data = load_iris_data()\n",
    "    model = train_from_csv(\n",
    "        train_data=iris_data.outputs[\"data\"],\n",
    "        train_target=iris_data.outputs[\"target\"],\n",
    "        kernel=kernel,\n",
    "    )\n",
    "    _ = upload_sklearn_model_to_mlflow(\n",
    "        model_name=model_name,\n",
    "        model=model.outputs[\"model\"],\n",
    "        input_example=model.outputs[\"input_example\"],\n",
    "        signature=model.outputs[\"signature\"],\n",
    "        conda_env=model.outputs[\"conda_env\"],\n",
    "    )"
   ]
  },
  {
   "cell_type": "code",
   "execution_count": 11,
   "metadata": {},
   "outputs": [],
   "source": [
    "import kfp\n",
    "if __name__ == \"__main__\":\n",
    "    kfp.compiler.Compiler().compile(mlflow_pipeline, \"mlflow_pipeline_3.yaml\")"
   ]
  },
  {
   "cell_type": "code",
   "execution_count": null,
   "metadata": {},
   "outputs": [],
   "source": []
  }
 ],
 "metadata": {
  "kernelspec": {
   "display_name": "Python 3",
   "language": "python",
   "name": "python3"
  },
  "language_info": {
   "codemirror_mode": {
    "name": "ipython",
    "version": 3
   },
   "file_extension": ".py",
   "mimetype": "text/x-python",
   "name": "python",
   "nbconvert_exporter": "python",
   "pygments_lexer": "ipython3",
   "version": "3.9.1"
  },
  "orig_nbformat": 4,
  "vscode": {
   "interpreter": {
    "hash": "b2097164ba635ebffc0e3795dc845ae25b57eedf0c1eb5773ded6aee9fc1b279"
   }
  }
 },
 "nbformat": 4,
 "nbformat_minor": 2
}
