{
 "cells": [
  {
   "attachments": {},
   "cell_type": "markdown",
   "metadata": {},
   "source": [
    "### Run page의 visualization 항목 사용하기\n",
    "\n",
    "* mlpipeline_ui_metadata: OutputPath(\"UI_Metadata\")을 사용하면 됨"
   ]
  },
  {
   "cell_type": "code",
   "execution_count": 1,
   "metadata": {},
   "outputs": [],
   "source": [
    "from functools import partial\n",
    "\n",
    "import kfp\n",
    "from kfp.components import create_component_from_func, OutputPath\n",
    "from kfp.dsl import pipeline\n",
    "\n",
    "\n",
    "@partial(\n",
    "    create_component_from_func,\n",
    "    packages_to_install=[\"matplotlib\"],\n",
    ")\n",
    "def plot_linear(mlpipeline_ui_metadata: OutputPath(\"UI_Metadata\")):\n",
    "    import base64\n",
    "    import json\n",
    "    from io import BytesIO\n",
    "\n",
    "    import matplotlib.pyplot as plt\n",
    "\n",
    "    plt.plot([1, 2, 3], [1, 2, 3])\n",
    "\n",
    "    tmpfile = BytesIO()\n",
    "    plt.savefig(tmpfile, format=\"png\")\n",
    "    encoded = base64.b64encode(tmpfile.getvalue()).decode(\"utf-8\")\n",
    "\n",
    "    html = f\"<img src='data:image/png;base64,{encoded}'>\"\n",
    "    metadata = {\n",
    "        \"outputs\": [\n",
    "            {\n",
    "                \"type\": \"web-app\",\n",
    "                \"storage\": \"inline\",\n",
    "                \"source\": html,\n",
    "            },\n",
    "        ],\n",
    "    }\n",
    "    with open(mlpipeline_ui_metadata, \"w\") as html_writer:\n",
    "        json.dump(metadata, html_writer)\n",
    "\n",
    "\n",
    "@pipeline(name=\"plot_pipeline\")\n",
    "def plot_pipeline():\n",
    "    plot_linear()\n",
    "\n",
    "\n",
    "if __name__ == \"__main__\":\n",
    "    kfp.compiler.Compiler().compile(plot_pipeline, \"plot_pipeline.yaml\")"
   ]
  },
  {
   "attachments": {},
   "cell_type": "markdown",
   "metadata": {},
   "source": [
    "### 결과\n",
    "\n",
    "<img src='img/plot.png'/>"
   ]
  },
  {
   "attachments": {},
   "cell_type": "markdown",
   "metadata": {},
   "source": [
    "### Metric 사용하기\n",
    "\n",
    "* mlpipeline_metrics_path: OutputPath(\"Metrics\")"
   ]
  },
  {
   "cell_type": "code",
   "execution_count": 2,
   "metadata": {},
   "outputs": [],
   "source": [
    "import kfp\n",
    "from kfp.components import create_component_from_func, OutputPath\n",
    "from kfp.dsl import pipeline\n",
    "\n",
    "\n",
    "@create_component_from_func\n",
    "def print_and_return_number(number: int) -> int:\n",
    "    print(number)\n",
    "    return number\n",
    "\n",
    "@create_component_from_func\n",
    "def sum_and_print_numbers(number_1: int, number_2: int) -> int:\n",
    "    sum_number = number_1 + number_2\n",
    "    print(sum_number)\n",
    "    return sum_number\n",
    "\n",
    "@create_component_from_func\n",
    "def show_metric_of_sum(\n",
    "    number: int,\n",
    "    mlpipeline_metrics_path: OutputPath(\"Metrics\"),\n",
    "  ):\n",
    "    import json\n",
    "    metrics = {\n",
    "        \"metrics\": [\n",
    "            {\n",
    "                \"name\": \"sum_value\",\n",
    "                \"numberValue\": number,\n",
    "            },\n",
    "        ],\n",
    "    }\n",
    "    with open(mlpipeline_metrics_path, \"w\") as f:\n",
    "        json.dump(metrics, f)\n",
    "\n",
    "@pipeline(name=\"example_pipeline\")\n",
    "def example_pipeline(number_1: int, number_2: int):\n",
    "    number_1_result = print_and_return_number(number_1)\n",
    "    number_2_result = print_and_return_number(number_2)\n",
    "    sum_result = sum_and_print_numbers(\n",
    "        number_1=number_1_result.output, number_2=number_2_result.output\n",
    "    )\n",
    "    show_metric_of_sum(sum_result.output)\n",
    "\n",
    "\n",
    "if __name__ == \"__main__\":\n",
    "    kfp.compiler.Compiler().compile(example_pipeline, \"example_pipeline.yaml\")"
   ]
  },
  {
   "attachments": {},
   "cell_type": "markdown",
   "metadata": {},
   "source": [
    "### 결과\n",
    "\n",
    "<img src='img/metrics.png'/>"
   ]
  }
 ],
 "metadata": {
  "kernelspec": {
   "display_name": "Python 3",
   "language": "python",
   "name": "python3"
  },
  "language_info": {
   "codemirror_mode": {
    "name": "ipython",
    "version": 3
   },
   "file_extension": ".py",
   "mimetype": "text/x-python",
   "name": "python",
   "nbconvert_exporter": "python",
   "pygments_lexer": "ipython3",
   "version": "3.9.1"
  },
  "orig_nbformat": 4,
  "vscode": {
   "interpreter": {
    "hash": "b2097164ba635ebffc0e3795dc845ae25b57eedf0c1eb5773ded6aee9fc1b279"
   }
  }
 },
 "nbformat": 4,
 "nbformat_minor": 2
}
