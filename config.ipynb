{
 "cells": [
  {
   "cell_type": "code",
   "execution_count": 13,
   "metadata": {},
   "outputs": [],
   "source": [
    "x = dict(\n",
    "        inference_address=\"http://0.0.0.0:8085\",\n",
    "        management_address=\"http://0.0.0.0:8085\",\n",
    "        metrics_address=\"http://0.0.0.0:8082\",\n",
    "        grpc_inference_port=7070,\n",
    "        grpc_management_port=7071,\n",
    "        enable_metrics_api=\"true\",\n",
    "        metrics_format=\"prometheus\",\n",
    "        number_of_netty_threads=4,\n",
    "        job_queue_size=10,\n",
    "        enable_envvars_config=\"true\",\n",
    "        install_py_dep_per_model=\"true\",\n",
    "        model_store=\"/mnt/models/model-store\",\n",
    "        model_snapshot={\n",
    "            \"name\": \"startup.cfg\",\n",
    "            \"modelCount\": 1,\n",
    "            \"models\": {\n",
    "                \"mnist\": {\n",
    "                    \"1.0\": {\n",
    "                        \"defaultVersion\": 'true',\n",
    "                        \"marName\": \"mnist.mar\",\n",
    "                        \"minWorkers\": 1,\n",
    "                        \"maxWorkers\": 5,\n",
    "                        \"batchSize\": 1,\n",
    "                        \"maxBatchDelay\": 10,\n",
    "                        \"responseTimeout\": 120,\n",
    "                    }\n",
    "                }\n",
    "            },\n",
    "        },\n",
    "    )\n",
    "with open(\"a11sd.properties\", \"w\") as f:\n",
    "    for i,j in x.items() :\n",
    "        f.write(f'{i}={j}\\n')\n",
    "    f.close()"
   ]
  },
  {
   "cell_type": "code",
   "execution_count": 12,
   "metadata": {},
   "outputs": [
    {
     "name": "stdout",
     "output_type": "stream",
     "text": [
      "inference_address=http://0.0.0.0:8085\n",
      "management_address=http://0.0.0.0:8085\n",
      "metrics_address=http://0.0.0.0:8082\n",
      "grpc_inference_port=7070\n",
      "grpc_management_port=7071\n",
      "enable_metrics_api=true\n",
      "metrics_format=prometheus\n",
      "number_of_netty_threads=4\n",
      "job_queue_size=10\n",
      "enable_envvars_config=true\n",
      "install_py_dep_per_model=true\n",
      "model_store=/mnt/models/model-store\n",
      "model_snapshot={'name': 'startup.cfg', 'modelCount': 1, 'models': {'mnist': {'1.0': {'defaultVersion': 'true', 'marName': 'mnist.mar', 'minWorkers': 1, 'maxWorkers': 5, 'batchSize': 1, 'maxBatchDelay': 10, 'responseTimeout': 120}}}}\n"
     ]
    }
   ],
   "source": []
  }
 ],
 "metadata": {
  "kernelspec": {
   "display_name": "Python 3",
   "language": "python",
   "name": "python3"
  },
  "language_info": {
   "codemirror_mode": {
    "name": "ipython",
    "version": 3
   },
   "file_extension": ".py",
   "mimetype": "text/x-python",
   "name": "python",
   "nbconvert_exporter": "python",
   "pygments_lexer": "ipython3",
   "version": "3.9.1"
  },
  "orig_nbformat": 4,
  "vscode": {
   "interpreter": {
    "hash": "b2097164ba635ebffc0e3795dc845ae25b57eedf0c1eb5773ded6aee9fc1b279"
   }
  }
 },
 "nbformat": 4,
 "nbformat_minor": 2
}
