{
 "cells": [
  {
   "cell_type": "code",
   "execution_count": null,
   "metadata": {},
   "outputs": [],
   "source": [
    "### kserve sdk로 torchserve 실행하기\n",
    "\n",
    "### 다음의 과정을 이해해야 합니다.\n",
    "* torchserve 실행을 위한 mar file생성\n",
    "* minio를 local에 실행하기 위한 sa 설정\n",
    "* marfile minIO local에 저장\n",
    "\n",
    "### kserve sdk란?\n",
    "* kserve sdk는 파이썬에서 inference 모델을 만드는 라이브러리\n",
    "* yaml을 대신 만들어줌\n",
    "* mar file, config.properties file을 불러오면 torchserve가 구현된 inferenceservice를 생성할 수 있음.\n"
   ]
  },
  {
   "cell_type": "code",
   "execution_count": 21,
   "metadata": {},
   "outputs": [
    {
     "data": {
      "text/plain": [
       "'{\"output\": [4]}'"
      ]
     },
     "execution_count": 21,
     "metadata": {},
     "output_type": "execute_result"
    }
   ],
   "source": [
    "import json\n",
    "x = {'output': [4]}\n",
    "\n",
    "json.dumps(x)\n"
   ]
  },
  {
   "cell_type": "code",
   "execution_count": 10,
   "metadata": {},
   "outputs": [],
   "source": [
    "from kserve import (\n",
    "    constants,\n",
    "    KServeClient,\n",
    "    V1beta1InferenceService,\n",
    "    V1beta1InferenceServiceSpec,\n",
    "    V1beta1PredictorSpec,\n",
    "    V1beta1ModelSpec,\n",
    "    V1beta1ModelFormat,\n",
    "    V1beta1TorchServeSpec,\n",
    "    utils\n",
    ")\n",
    "from kubernetes import client\n"
   ]
  },
  {
   "cell_type": "code",
   "execution_count": 15,
   "metadata": {},
   "outputs": [
    {
     "data": {
      "text/plain": [
       "{'limits': None, 'requests': {'cpu': 1}}"
      ]
     },
     "execution_count": 15,
     "metadata": {},
     "output_type": "execute_result"
    }
   ],
   "source": [
    "client.V1ResourceRequirements(requests={'cpu':1,'memory':'1G'})"
   ]
  },
  {
   "cell_type": "code",
   "execution_count": 4,
   "metadata": {},
   "outputs": [],
   "source": [
    "service_name = 'pytorchserve2'\n",
    "namespace = utils.get_default_target_namespace()\n",
    "api_version = constants.KSERVE_GROUP + '/' + constants.KSERVE_V1BETA1_VERSION\n",
    "storage = 's3://pytorch'\n",
    "\n",
    "torchsvc= V1beta1InferenceService(api_version=api_version,\n",
    "                               kind=constants.KSERVE_KIND,\n",
    "                               metadata=client.V1ObjectMeta(name=service_name, namespace=namespace, annotations={'sidecar.istio.io/inject':'false'}),\n",
    "                               spec=V1beta1InferenceServiceSpec(\n",
    "                                   predictor=V1beta1PredictorSpec(\n",
    "                                       service_account_name='sa',\n",
    "                                       pytorch=(V1beta1TorchServeSpec(protocol_version='v1',resources=client.V1ResourceRequirements(requests={'cpu':1,'memory':'1G'}),\n",
    "                                            storage_uri = storage))))\n",
    ")"
   ]
  },
  {
   "cell_type": "code",
   "execution_count": 5,
   "metadata": {},
   "outputs": [
    {
     "data": {
      "text/plain": [
       "{'api_version': 'serving.kserve.io/v1beta1',\n",
       " 'kind': 'InferenceService',\n",
       " 'metadata': {'annotations': {'sidecar.istio.io/inject': 'false'},\n",
       "              'cluster_name': None,\n",
       "              'creation_timestamp': None,\n",
       "              'deletion_grace_period_seconds': None,\n",
       "              'deletion_timestamp': None,\n",
       "              'finalizers': None,\n",
       "              'generate_name': None,\n",
       "              'generation': None,\n",
       "              'labels': None,\n",
       "              'managed_fields': None,\n",
       "              'name': 'pytorchserve2',\n",
       "              'namespace': 'default',\n",
       "              'owner_references': None,\n",
       "              'resource_version': None,\n",
       "              'self_link': None,\n",
       "              'uid': None},\n",
       " 'spec': {'explainer': None,\n",
       "          'predictor': {'active_deadline_seconds': None,\n",
       "                        'affinity': None,\n",
       "                        'automount_service_account_token': None,\n",
       "                        'batcher': None,\n",
       "                        'canary_traffic_percent': None,\n",
       "                        'container_concurrency': None,\n",
       "                        'containers': None,\n",
       "                        'dns_config': None,\n",
       "                        'dns_policy': None,\n",
       "                        'enable_service_links': None,\n",
       "                        'ephemeral_containers': None,\n",
       "                        'host_aliases': None,\n",
       "                        'host_ipc': None,\n",
       "                        'host_network': None,\n",
       "                        'host_pid': None,\n",
       "                        'hostname': None,\n",
       "                        'image_pull_secrets': None,\n",
       "                        'init_containers': None,\n",
       "                        'lightgbm': None,\n",
       "                        'logger': None,\n",
       "                        'max_replicas': None,\n",
       "                        'min_replicas': None,\n",
       "                        'model': None,\n",
       "                        'node_name': None,\n",
       "                        'node_selector': None,\n",
       "                        'onnx': None,\n",
       "                        'overhead': None,\n",
       "                        'paddle': None,\n",
       "                        'pmml': None,\n",
       "                        'preemption_policy': None,\n",
       "                        'priority': None,\n",
       "                        'priority_class_name': None,\n",
       "                        'pytorch': {'args': None,\n",
       "                                    'command': None,\n",
       "                                    'env': None,\n",
       "                                    'env_from': None,\n",
       "                                    'image': None,\n",
       "                                    'image_pull_policy': None,\n",
       "                                    'lifecycle': None,\n",
       "                                    'liveness_probe': None,\n",
       "                                    'name': '',\n",
       "                                    'ports': None,\n",
       "                                    'protocol_version': 'v1',\n",
       "                                    'readiness_probe': None,\n",
       "                                    'resources': None,\n",
       "                                    'runtime_version': None,\n",
       "                                    'security_context': None,\n",
       "                                    'startup_probe': None,\n",
       "                                    'stdin': None,\n",
       "                                    'stdin_once': None,\n",
       "                                    'storage': None,\n",
       "                                    'storage_uri': 's3://pytorch',\n",
       "                                    'termination_message_path': None,\n",
       "                                    'termination_message_policy': None,\n",
       "                                    'tty': None,\n",
       "                                    'volume_devices': None,\n",
       "                                    'volume_mounts': None,\n",
       "                                    'working_dir': None},\n",
       "                        'readiness_gates': None,\n",
       "                        'restart_policy': None,\n",
       "                        'runtime_class_name': None,\n",
       "                        'scale_metric': None,\n",
       "                        'scale_target': None,\n",
       "                        'scheduler_name': None,\n",
       "                        'security_context': None,\n",
       "                        'service_account': None,\n",
       "                        'service_account_name': 'sa',\n",
       "                        'set_hostname_as_fqdn': None,\n",
       "                        'share_process_namespace': None,\n",
       "                        'sklearn': None,\n",
       "                        'subdomain': None,\n",
       "                        'tensorflow': None,\n",
       "                        'termination_grace_period_seconds': None,\n",
       "                        'timeout': None,\n",
       "                        'tolerations': None,\n",
       "                        'topology_spread_constraints': None,\n",
       "                        'triton': None,\n",
       "                        'volumes': None,\n",
       "                        'xgboost': None},\n",
       "          'transformer': None},\n",
       " 'status': None}"
      ]
     },
     "execution_count": 5,
     "metadata": {},
     "output_type": "execute_result"
    }
   ],
   "source": [
    "torchsvc"
   ]
  },
  {
   "cell_type": "code",
   "execution_count": null,
   "metadata": {},
   "outputs": [],
   "source": [
    "KServe = KServeClient()\n",
    "KServe.create(torchsvc)\n",
    "# torchsvc"
   ]
  },
  {
   "cell_type": "code",
   "execution_count": null,
   "metadata": {},
   "outputs": [],
   "source": [
    "torch_resp=KServe.get(service_name, namespace=namespace)"
   ]
  },
  {
   "cell_type": "code",
   "execution_count": null,
   "metadata": {},
   "outputs": [],
   "source": [
    "data = \"Stopped back by Mellow Mushroom with my mate Justin from Brew Bros.\"\n",
    "torch_resp['status']['address']['url']"
   ]
  },
  {
   "cell_type": "code",
   "execution_count": null,
   "metadata": {},
   "outputs": [],
   "source": [
    "import requests\n",
    "isvc_url = f'http://{service_name}.kubeflow-user-example-com.svc.cluster.local/v1/models/bert:predict'\n",
    "print(isvc_url)\n",
    "\n",
    "response = requests.post(isvc_url, json=data)\n",
    "print(response.text)"
   ]
  }
 ],
 "metadata": {
  "kernelspec": {
   "display_name": "Python 3",
   "language": "python",
   "name": "python3"
  },
  "language_info": {
   "codemirror_mode": {
    "name": "ipython",
    "version": 3
   },
   "file_extension": ".py",
   "mimetype": "text/x-python",
   "name": "python",
   "nbconvert_exporter": "python",
   "pygments_lexer": "ipython3",
   "version": "3.9.1"
  },
  "orig_nbformat": 4,
  "vscode": {
   "interpreter": {
    "hash": "b2097164ba635ebffc0e3795dc845ae25b57eedf0c1eb5773ded6aee9fc1b279"
   }
  }
 },
 "nbformat": 4,
 "nbformat_minor": 2
}
