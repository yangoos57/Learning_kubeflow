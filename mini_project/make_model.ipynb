{
 "cells": [
  {
   "cell_type": "markdown",
   "metadata": {},
   "source": [
    "### KFP를 활용해 Training PipeLine 만들기"
   ]
  },
  {
   "cell_type": "code",
   "execution_count": 1,
   "metadata": {},
   "outputs": [],
   "source": [
    "#### New\n",
    "from functools import partial\n",
    "from kfp.components import create_component_from_func, InputPath, OutputPath\n",
    "\n",
    "\n",
    "\n",
    "@partial(\n",
    "    create_component_from_func,\n",
    "    packages_to_install=[\"pandas\"],\n",
    ")\n",
    "def load_data(\n",
    "    train_path: OutputArtifact(\"csv\"),\n",
    "    evaluation_path: OutputArtifact(\"csv\"),\n",
    "):\n",
    "\n",
    "\n",
    "    import pandas as pd\n",
    "\n",
    "    # load data from github\n",
    "    df_train = pd.read_csv(\n",
    "        \"https://raw.github.com/yangoos57/Learning_kubeflow/main/mini_project/data/train.csv\"\n",
    "    )\n",
    "    df_evaluation = pd.read_csv(\n",
    "        \"https://raw.github.com/yangoos57/Learning_kubeflow/main/mini_project/data/validation.csv\"\n",
    "    )\n",
    "    \n",
    "    df_train.to_csv(train_path, index=False)\n",
    "    df_evaluation.to_csv(evaluation_path, index=False)\n",
    "\n",
    "    print('complete Loading Data')\n"
   ]
  },
  {
   "cell_type": "code",
   "execution_count": 4,
   "metadata": {},
   "outputs": [],
   "source": [
    "@partial(\n",
    "    create_component_from_func,\n",
    "    base_image=\"679oose/basepython:1.0\"\n",
    ")\n",
    "def train_model(\n",
    "    train_path:InputPath(\"csv\"),\n",
    "    evaluation_path: InputPath(\"csv\"),\n",
    "    model_save_path: OutputPath(\"folder\"),\n",
    "):\n",
    "\n",
    "    from transformers import (\n",
    "        DistilBertForSequenceClassification,\n",
    "        DistilBertTokenizer,\n",
    "        Trainer,\n",
    "        TrainingArguments,\n",
    "        TrainerCallback\n",
    "    )\n",
    "    from datasets import Dataset\n",
    "\n",
    "    # loading data\n",
    "    train_dataset = Dataset.from_csv(train_path)\n",
    "    evaluation_dataset = Dataset.from_csv(evaluation_path)\n",
    "\n",
    "    # tokenizing\n",
    "    tokenizer = DistilBertTokenizer.from_pretrained(\"distilbert-base-uncased\")\n",
    "\n",
    "    def tokenize_function(item):\n",
    "        return tokenizer(item[\"text\"], padding=\"max_length\", max_length=128, truncation=True)\n",
    "\n",
    "    train = train_dataset.map(tokenize_function)\n",
    "    evaluation = evaluation_dataset.map(tokenize_function)\n",
    "\n",
    "    print('complete Tokenizing')\n",
    "\n",
    "    model = DistilBertForSequenceClassification.from_pretrained(\n",
    "        \"distilbert-base-uncased\", num_labels=len(set(train_dataset[\"label\"]))\n",
    "    )\n",
    "    tra_arg = TrainingArguments(\n",
    "        output_dir=\"test\",\n",
    "        num_train_epochs=1,\n",
    "        logging_steps=5,\n",
    "        evaluation_strategy=\"epoch\",\n",
    "        disable_tqdm=True,\n",
    "        save_strategy = \"no\"\n",
    "    )\n",
    "\n",
    "    class myCallback(TrainerCallback):\n",
    "\n",
    "        def on_log(self, args, state, control, logs=None, **kwargs):\n",
    "            print(f'{state.global_step} Steps ')\n",
    "\n",
    "    trainer = Trainer(\n",
    "        model=model,\n",
    "        args=tra_arg,\n",
    "        train_dataset=train,\n",
    "        eval_dataset=evaluation,\n",
    "        callbacks=[myCallback]\n",
    "    )\n",
    "\n",
    "    trainer.train()\n",
    "    trainer.save_model(model_save_path)\n",
    "\n"
   ]
  },
  {
   "cell_type": "code",
   "execution_count": null,
   "metadata": {},
   "outputs": [],
   "source": [
    "from kfp.dsl import ContainerOp\n",
    "\n",
    "op = ContainerOp(name='foo',\n",
    "                      image='' % tag,\n",
    "                      # pass in init_container list\n",
    "                      init_containers=[dsl.UserContainer('print', 'busybox:latest', command='echo \"hello\"')],\n",
    "                      # pass in sidecars list\n",
    "                      sidecars=[dsl.Sidecar('print', 'busybox:latest', command='echo \"hello\"')],\n",
    "                      # pass in k8s container kwargs\n",
    "                      container_kwargs={'env': [V1EnvVar('foo', 'bar')]},\n",
    "  )"
   ]
  },
  {
   "cell_type": "code",
   "execution_count": 6,
   "metadata": {},
   "outputs": [],
   "source": [
    "from kfp.dsl import pipeline\n",
    "\n",
    "@pipeline(name=\"NLP_Pipeline\")\n",
    "def NLP_Pipeline():\n",
    "    data = load_data()\n",
    "    train_model(data.outputs['train'],data.outputs['evaluation'])\n",
    "\n",
    "\n",
    "import kfp\n",
    "if __name__ == \"__main__\":\n",
    "    kfp.compiler.Compiler().compile(NLP_Pipeline, \"NLP_Pipeline_1.2.yaml\")"
   ]
  }
 ],
 "metadata": {
  "kernelspec": {
   "display_name": "Python 3",
   "language": "python",
   "name": "python3"
  },
  "language_info": {
   "codemirror_mode": {
    "name": "ipython",
    "version": 3
   },
   "file_extension": ".py",
   "mimetype": "text/x-python",
   "name": "python",
   "nbconvert_exporter": "python",
   "pygments_lexer": "ipython3",
   "version": "3.9.1 (default, Jun 13 2022, 17:35:03) \n[Clang 13.1.6 (clang-1316.0.21.2.5)]"
  },
  "orig_nbformat": 4,
  "vscode": {
   "interpreter": {
    "hash": "b2097164ba635ebffc0e3795dc845ae25b57eedf0c1eb5773ded6aee9fc1b279"
   }
  }
 },
 "nbformat": 4,
 "nbformat_minor": 2
}
