{
 "cells": [
  {
   "cell_type": "markdown",
   "metadata": {},
   "source": [
    "### KFP를 활용해 Training PipeLine 만들기"
   ]
  },
  {
   "cell_type": "code",
   "execution_count": 4,
   "metadata": {},
   "outputs": [
    {
     "name": "stderr",
     "output_type": "stream",
     "text": [
      "/Users/yangwoolee/.pyenv/versions/3.9.1/lib/python3.9/site-packages/kfp/dsl/_container_op.py:1261: FutureWarning: Please create reusable components instead of constructing ContainerOp instances directly. Reusable components are shareable, portable and have compatibility and support guarantees. Please see the documentation: https://www.kubeflow.org/docs/pipelines/sdk/component-development/#writing-your-component-definition-file The components can be created manually (or, in case of python, using kfp.components.create_component_from_func or func_to_container_op) and then loaded using kfp.components.load_component_from_file, load_component_from_uri or load_component_from_text: https://kubeflow-pipelines.readthedocs.io/en/stable/source/kfp.components.html#kfp.components.load_component_from_file\n",
      "  warnings.warn(\n"
     ]
    }
   ],
   "source": []
  },
  {
   "cell_type": "code",
   "execution_count": 12,
   "metadata": {},
   "outputs": [
    {
     "name": "stderr",
     "output_type": "stream",
     "text": [
      "/Users/yangwoolee/.pyenv/versions/3.9.1/lib/python3.9/site-packages/kfp/dsl/_container_op.py:1261: FutureWarning: Please create reusable components instead of constructing ContainerOp instances directly. Reusable components are shareable, portable and have compatibility and support guarantees. Please see the documentation: https://www.kubeflow.org/docs/pipelines/sdk/component-development/#writing-your-component-definition-file The components can be created manually (or, in case of python, using kfp.components.create_component_from_func or func_to_container_op) and then loaded using kfp.components.load_component_from_file, load_component_from_uri or load_component_from_text: https://kubeflow-pipelines.readthedocs.io/en/stable/source/kfp.components.html#kfp.components.load_component_from_file\n",
      "  warnings.warn(\n"
     ]
    }
   ],
   "source": [
    "#### New\n",
    "from functools import partial\n",
    "from kfp.components import create_component_from_func, InputPath, OutputArtifact, OutputPath\n",
    "from kubernetes import client as k8s_client\n",
    "from kfp.dsl import ContainerOp\n",
    "from kubernetes.client.models import V1EnvVar, V1SecretKeySelector\n",
    "\n",
    "\n",
    "\n",
    "\n",
    "@partial(\n",
    "    create_component_from_func,\n",
    "    base_image=\"python:3.9\",\n",
    "    packages_to_install=[\"pandas\"],\n",
    ")\n",
    "def load_data(\n",
    "    train_path: OutputPath(\"csv\"),\n",
    "    evaluation_path: OutputPath(\"csv\"),\n",
    "):\n",
    "\n",
    "    import pandas as pd\n",
    "\n",
    "    print(\"load_pandas\")\n",
    "\n",
    "    # load data from github\n",
    "    df_train = pd.read_csv(\n",
    "        \"https://raw.github.com/yangoos57/Learning_kubeflow/main/mini_project/data/train.csv\"\n",
    "    )\n",
    "    df_evaluation = pd.read_csv(\n",
    "        \"https://raw.github.com/yangoos57/Learning_kubeflow/main/mini_project/data/validation.csv\"\n",
    "    )\n",
    "    print(\"Complete_loading_data_to_pandas\")\n",
    "\n",
    "    df_train.to_csv(train_path, index=False)\n",
    "    df_evaluation.to_csv(evaluation_path, index=False)\n",
    "\n",
    "    print(\"complete Loading Data\")\n",
    "\n",
    "\n",
    "from kfp.dsl import pipeline\n",
    "import kfp.dsl as dsl\n",
    "\n",
    "@pipeline(name=\"test_pipeline\")\n",
    "def test_pipeline():\n",
    "    \n",
    "\n",
    "    vop = dsl.VolumeOp(\n",
    "        name=\"volume_creation\",\n",
    "        resource_name=\"mypvc\",\n",
    "        size=\"1Gi\"\n",
    "    )\n",
    "\n",
    "    data = load_data()\n",
    "    op = (\n",
    "        ContainerOp(\n",
    "            name=\"MARfile_Test\",\n",
    "            image=\"python:3.9\",\n",
    "            command=[\"/bin/sh\", \"-c\"],\n",
    "            arguments=[\n",
    "                \"pip install torch-model-archiver torchserve torch-workflow-archiver && ls-a\"\n",
    "            ],\n",
    "            pvolumes={\"/hello_world\": vop.volume},\n",
    "            artifact_argument_paths=[data.outputs['train']]\n",
    "            \n",
    "        )\n",
    "        .add_env_variable(\n",
    "            k8s_client.V1EnvVar(\n",
    "                name=\"MINIO_URL\", value=\"http://minio-service.kubeflow.svc.cluster.local:9000\"\n",
    "            )\n",
    "        )\n",
    "        .add_env_variable(k8s_client.V1EnvVar(name=\"MINIO_KEY\", value=\"minio\"))\n",
    "        .add_env_variable(k8s_client.V1EnvVar(name=\"MINIO_SECRET\", value=\"minio123\"))\n",
    "    )\n",
    "\n",
    "\n",
    "import kfp\n",
    "\n",
    "if __name__ == \"__main__\":\n",
    "    kfp.compiler.Compiler().compile(test_pipeline, \"test_pipeline_op_3.yaml\")\n"
   ]
  },
  {
   "cell_type": "code",
   "execution_count": 11,
   "metadata": {},
   "outputs": [],
   "source": [
    "import json\n",
    "log_dir_uri=f\"s3://{'torch'}\",\n",
    "minio_endpoint = \"http://minio-service.kubeflow:9000\"\n",
    "pod_template_spec=json.dumps({\n",
    "            \"spec\": {\n",
    "                \"containers\": [{\n",
    "                    \"env\": [\n",
    "                        {\n",
    "                            \"name\": \"AWS_ACCESS_KEY_ID\",\n",
    "                            \"value\": \"minio\"\n",
    "                        },\n",
    "                        {\n",
    "                            \"name\": \"AWS_SECRET_ACCESS_KEY\",\n",
    "                            \"value\" : \"minio123\"\n",
    "                        },\n",
    "                        {\n",
    "                            \"name\": \"S3_ENDPOINT\",\n",
    "                            \"value\": f\"{minio_endpoint}\",\n",
    "                        },\n",
    "                        {\n",
    "                            \"name\": \"S3_USE_HTTPS\",\n",
    "                            \"value\": \"0\"\n",
    "                        },\n",
    "                        {\n",
    "                            \"name\": \"S3_VERIFY_SSL\",\n",
    "                            \"value\": \"0\"\n",
    "                        },\n",
    "                    ]\n",
    "                }]\n",
    "            }\n",
    "        }),"
   ]
  },
  {
   "cell_type": "code",
   "execution_count": 12,
   "metadata": {},
   "outputs": [
    {
     "data": {
      "text/plain": [
       "('{\"spec\": {\"containers\": [{\"env\": [{\"name\": \"AWS_ACCESS_KEY_ID\", \"key\": \"minio\"}, {\"name\": \"AWS_SECRET_ACCESS_KEY\", \"key\": \"minio123\"}, {\"name\": \"S3_ENDPOINT\", \"value\": \"http://minio-service.kubeflow:9000\"}, {\"name\": \"S3_USE_HTTPS\", \"value\": \"0\"}, {\"name\": \"S3_VERIFY_SSL\", \"value\": \"0\"}]}]}}',)"
      ]
     },
     "execution_count": 12,
     "metadata": {},
     "output_type": "execute_result"
    }
   ],
   "source": [
    "pod_template_spec"
   ]
  },
  {
   "cell_type": "code",
   "execution_count": 4,
   "metadata": {},
   "outputs": [],
   "source": [
    "@partial(\n",
    "    create_component_from_func,\n",
    "    base_image=\"679oose/basepython:1.0\"\n",
    ")\n",
    "def train_model(\n",
    "    train_path:InputPath(\"csv\"),\n",
    "    evaluation_path: InputPath(\"csv\"),\n",
    "    model_save_path: OutputPath(\"folder\"),\n",
    "):\n",
    "\n",
    "    from transformers import (\n",
    "        DistilBertForSequenceClassification,\n",
    "        DistilBertTokenizer,\n",
    "        Trainer,\n",
    "        TrainingArguments,\n",
    "        TrainerCallback\n",
    "    )\n",
    "    from datasets import Dataset\n",
    "\n",
    "    # loading data\n",
    "    train_dataset = Dataset.from_csv(train_path)\n",
    "    evaluation_dataset = Dataset.from_csv(evaluation_path)\n",
    "\n",
    "    # tokenizing\n",
    "    tokenizer = DistilBertTokenizer.from_pretrained(\"distilbert-base-uncased\")\n",
    "\n",
    "    def tokenize_function(item):\n",
    "        return tokenizer(item[\"text\"], padding=\"max_length\", max_length=128, truncation=True)\n",
    "\n",
    "    train = train_dataset.map(tokenize_function)\n",
    "    evaluation = evaluation_dataset.map(tokenize_function)\n",
    "\n",
    "    print('complete Tokenizing')\n",
    "\n",
    "    model = DistilBertForSequenceClassification.from_pretrained(\n",
    "        \"distilbert-base-uncased\", num_labels=len(set(train_dataset[\"label\"]))\n",
    "    )\n",
    "    tra_arg = TrainingArguments(\n",
    "        output_dir=\"test\",\n",
    "        num_train_epochs=1,\n",
    "        logging_steps=5,\n",
    "        evaluation_strategy=\"epoch\",\n",
    "        disable_tqdm=True,\n",
    "        save_strategy = \"no\"\n",
    "    )\n",
    "\n",
    "    class myCallback(TrainerCallback):\n",
    "\n",
    "        def on_log(self, args, state, control, logs=None, **kwargs):\n",
    "            print(f'{state.global_step} Steps ')\n",
    "\n",
    "    trainer = Trainer(\n",
    "        model=model,\n",
    "        args=tra_arg,\n",
    "        train_dataset=train,\n",
    "        eval_dataset=evaluation,\n",
    "        callbacks=[myCallback]\n",
    "    )\n",
    "\n",
    "    trainer.train()\n",
    "    trainer.save_model(model_save_path)\n",
    "\n"
   ]
  },
  {
   "cell_type": "code",
   "execution_count": 6,
   "metadata": {},
   "outputs": [],
   "source": [
    "from kfp.dsl import pipeline\n",
    "\n",
    "@pipeline(name=\"NLP_Pipeline\")\n",
    "def NLP_Pipeline():\n",
    "    data = load_data()\n",
    "    train_model(data.outputs['train'],data.outputs['evaluation'])\n",
    "\n",
    "\n",
    "import kfp\n",
    "if __name__ == \"__main__\":\n",
    "    kfp.compiler.Compiler().compile(NLP_Pipeline, \"NLP_Pipeline_1.2.yaml\")"
   ]
  }
 ],
 "metadata": {
  "kernelspec": {
   "display_name": "Python 3",
   "language": "python",
   "name": "python3"
  },
  "language_info": {
   "codemirror_mode": {
    "name": "ipython",
    "version": 3
   },
   "file_extension": ".py",
   "mimetype": "text/x-python",
   "name": "python",
   "nbconvert_exporter": "python",
   "pygments_lexer": "ipython3",
   "version": "3.9.1"
  },
  "orig_nbformat": 4,
  "vscode": {
   "interpreter": {
    "hash": "b2097164ba635ebffc0e3795dc845ae25b57eedf0c1eb5773ded6aee9fc1b279"
   }
  }
 },
 "nbformat": 4,
 "nbformat_minor": 2
}
